{
 "cells": [
  {
   "cell_type": "code",
   "execution_count": 1,
   "metadata": {},
   "outputs": [],
   "source": [
    "import secrets\n",
    "import pandas as pd"
   ]
  },
  {
   "cell_type": "code",
   "execution_count": 10,
   "metadata": {},
   "outputs": [
    {
     "name": "stdout",
     "output_type": "stream",
     "text": [
      " Post Content\n"
     ]
    }
   ],
   "source": [
    "df = pd.read_csv('samples.csv')\n",
    "N, D = df.shape\n",
    "column_names = df.columns.values\n",
    "print(column_names[1])"
   ]
  },
  {
   "cell_type": "code",
   "execution_count": 23,
   "metadata": {},
   "outputs": [],
   "source": [
    "f = open('questions.txt', 'w')\n",
    "f.write('[[AdvancedFormat]]\\n\\n')\n",
    "f.write('[[Block: Joke Block]]\\n\\n')\n",
    "counter = 0\n",
    "for i in range(N):\n",
    "    f.write('[[Question:MC:SingleAnswer]]\\n')\n",
    "    f.write(\"\" + str(counter + 1) + \". Post Content: \" + df.iloc[i][column_names[1]] + \"\\n\\n\")\n",
    "    f.write(\"Does this post contain hate speech or not?\")\n",
    "    f.write(\"\\n[[Choices]]\\n\")\n",
    "    f.write(\"Yes, this post contains hate speech\\n\")\n",
    "    f.write(\"No, this post does not contain hate speech\\n\\n\")\n",
    "    counter += 1"
   ]
  },
  {
   "cell_type": "code",
   "execution_count": null,
   "metadata": {},
   "outputs": [],
   "source": []
  },
  {
   "cell_type": "code",
   "execution_count": null,
   "metadata": {},
   "outputs": [],
   "source": []
  }
 ],
 "metadata": {
  "kernelspec": {
   "display_name": "PyCharm (talks-and-workshops)",
   "language": "python",
   "name": "pycharm-db897d00"
  },
  "language_info": {
   "codemirror_mode": {
    "name": "ipython",
    "version": 3
   },
   "file_extension": ".py",
   "mimetype": "text/x-python",
   "name": "python",
   "nbconvert_exporter": "python",
   "pygments_lexer": "ipython3",
   "version": "3.7.3"
  }
 },
 "nbformat": 4,
 "nbformat_minor": 2
}
