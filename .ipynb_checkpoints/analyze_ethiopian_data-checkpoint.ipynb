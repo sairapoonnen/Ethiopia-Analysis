{
 "cells": [
  {
   "cell_type": "code",
   "execution_count": 14,
   "metadata": {},
   "outputs": [],
   "source": [
    "import pymongo as pymg\n",
    "import pandas as pd\n",
    "import numpy as np\n",
    "import matplotlib.pyplot as plt\n",
    "import seaborn as sns"
   ]
  },
  {
   "cell_type": "code",
   "execution_count": 81,
   "metadata": {},
   "outputs": [],
   "source": [
    "import pymongo\n",
    "\n",
    "myclient = pymongo.MongoClient(\"mongodb://localhost:27017/\")\n",
    "mydb = myclient[\"aggie\"]\n",
    "incidents = mydb[\"incidents\"]\n"
   ]
  },
  {
   "cell_type": "code",
   "execution_count": 82,
   "metadata": {},
   "outputs": [],
   "source": [
    "incident_iter = incidents.find()\n",
    "incident_arr = []\n",
    "for x in incident_iter:\n",
    "  incident_arr.append(x)\n",
    "\n",
    "df_1 = pd.DataFrame(incident_arr)"
   ]
  },
  {
   "cell_type": "code",
   "execution_count": 83,
   "metadata": {},
   "outputs": [],
   "source": [
    "df_1.to_csv('./incidents.csv')"
   ]
  },
  {
   "cell_type": "code",
   "execution_count": 40,
   "metadata": {},
   "outputs": [
    {
     "data": {
      "text/html": [
       "<div>\n",
       "<style scoped>\n",
       "    .dataframe tbody tr th:only-of-type {\n",
       "        vertical-align: middle;\n",
       "    }\n",
       "\n",
       "    .dataframe tbody tr th {\n",
       "        vertical-align: top;\n",
       "    }\n",
       "\n",
       "    .dataframe thead th {\n",
       "        text-align: right;\n",
       "    }\n",
       "</style>\n",
       "<table border=\"1\" class=\"dataframe\">\n",
       "  <thead>\n",
       "    <tr style=\"text-align: right;\">\n",
       "      <th></th>\n",
       "      <th>_id</th>\n",
       "      <th>tags</th>\n",
       "      <th>status</th>\n",
       "      <th>veracity</th>\n",
       "      <th>escalated</th>\n",
       "      <th>closed</th>\n",
       "      <th>public</th>\n",
       "      <th>totalReports</th>\n",
       "      <th>title</th>\n",
       "      <th>assignedTo</th>\n",
       "      <th>creator</th>\n",
       "      <th>storedAt</th>\n",
       "      <th>updatedAt</th>\n",
       "      <th>idnum</th>\n",
       "      <th>__v</th>\n",
       "      <th>locationName</th>\n",
       "      <th>notes</th>\n",
       "      <th>publicDescription</th>\n",
       "    </tr>\n",
       "  </thead>\n",
       "  <tbody>\n",
       "    <tr>\n",
       "      <th>0</th>\n",
       "      <td>5f58a17a783b70614ec03255</td>\n",
       "      <td>[Misinforms citizens]</td>\n",
       "      <td>new</td>\n",
       "      <td>False</td>\n",
       "      <td>False</td>\n",
       "      <td>False</td>\n",
       "      <td>False</td>\n",
       "      <td>3</td>\n",
       "      <td>False Information</td>\n",
       "      <td>5f3bd5defeefceadc1bee88e</td>\n",
       "      <td>5f3bd5defeefceadc1bee88e</td>\n",
       "      <td>2020-09-09 09:33:46.104</td>\n",
       "      <td>2020-09-18 14:16:56.599</td>\n",
       "      <td>4</td>\n",
       "      <td>1</td>\n",
       "      <td>https://www.facebook.com/ethiopia24news/posts/...</td>\n",
       "      <td>NaN</td>\n",
       "      <td>NaN</td>\n",
       "    </tr>\n",
       "    <tr>\n",
       "      <th>1</th>\n",
       "      <td>5f5a15c2783b70614ec03256</td>\n",
       "      <td>[]</td>\n",
       "      <td>new</td>\n",
       "      <td>None</td>\n",
       "      <td>False</td>\n",
       "      <td>False</td>\n",
       "      <td>True</td>\n",
       "      <td>1</td>\n",
       "      <td>False Information</td>\n",
       "      <td>None</td>\n",
       "      <td>5f50c353783b70614ec03251</td>\n",
       "      <td>2020-09-10 12:02:10.583</td>\n",
       "      <td>2020-09-15 12:36:57.377</td>\n",
       "      <td>5</td>\n",
       "      <td>0</td>\n",
       "      <td>https://www.facebook.com/TobiaTube/posts/18446...</td>\n",
       "      <td>They posted before nothing known about Tigray ...</td>\n",
       "      <td>NaN</td>\n",
       "    </tr>\n",
       "    <tr>\n",
       "      <th>2</th>\n",
       "      <td>5f5a16e0783b70614ec03257</td>\n",
       "      <td>[]</td>\n",
       "      <td>new</td>\n",
       "      <td>None</td>\n",
       "      <td>False</td>\n",
       "      <td>False</td>\n",
       "      <td>False</td>\n",
       "      <td>2</td>\n",
       "      <td>Hate Speech</td>\n",
       "      <td>None</td>\n",
       "      <td>5f50c353783b70614ec03251</td>\n",
       "      <td>2020-09-10 12:06:56.332</td>\n",
       "      <td>2020-09-10 12:06:56.332</td>\n",
       "      <td>6</td>\n",
       "      <td>0</td>\n",
       "      <td>NaN</td>\n",
       "      <td>NaN</td>\n",
       "      <td>NaN</td>\n",
       "    </tr>\n",
       "    <tr>\n",
       "      <th>3</th>\n",
       "      <td>5f5a2103783b70614ec03258</td>\n",
       "      <td>[]</td>\n",
       "      <td>new</td>\n",
       "      <td>None</td>\n",
       "      <td>False</td>\n",
       "      <td>False</td>\n",
       "      <td>True</td>\n",
       "      <td>1</td>\n",
       "      <td>False Information</td>\n",
       "      <td>5f50c2ee783b70614ec03250</td>\n",
       "      <td>5f50c2ee783b70614ec03250</td>\n",
       "      <td>2020-09-10 12:50:11.536</td>\n",
       "      <td>2020-09-10 13:07:54.711</td>\n",
       "      <td>7</td>\n",
       "      <td>0</td>\n",
       "      <td>https://twitter.com/azaz11133/status/692579806...</td>\n",
       "      <td>The image was posted on twitter Four years ago.</td>\n",
       "      <td>NaN</td>\n",
       "    </tr>\n",
       "    <tr>\n",
       "      <th>4</th>\n",
       "      <td>5f5e0ce8783b70614ec03259</td>\n",
       "      <td>[]</td>\n",
       "      <td>new</td>\n",
       "      <td>None</td>\n",
       "      <td>False</td>\n",
       "      <td>False</td>\n",
       "      <td>False</td>\n",
       "      <td>1</td>\n",
       "      <td>False Information</td>\n",
       "      <td>None</td>\n",
       "      <td>5f50c2ee783b70614ec03250</td>\n",
       "      <td>2020-09-13 12:13:28.518</td>\n",
       "      <td>2020-09-16 13:01:29.629</td>\n",
       "      <td>8</td>\n",
       "      <td>0</td>\n",
       "      <td>https://twitter.com/Buranaor/status/1305105906...</td>\n",
       "      <td>The image was posted on a website called Bilis...</td>\n",
       "      <td>NaN</td>\n",
       "    </tr>\n",
       "  </tbody>\n",
       "</table>\n",
       "</div>"
      ],
      "text/plain": [
       "                        _id                   tags status veracity  escalated  \\\n",
       "0  5f58a17a783b70614ec03255  [Misinforms citizens]    new    False      False   \n",
       "1  5f5a15c2783b70614ec03256                     []    new     None      False   \n",
       "2  5f5a16e0783b70614ec03257                     []    new     None      False   \n",
       "3  5f5a2103783b70614ec03258                     []    new     None      False   \n",
       "4  5f5e0ce8783b70614ec03259                     []    new     None      False   \n",
       "\n",
       "   closed  public  totalReports              title                assignedTo  \\\n",
       "0   False   False             3  False Information  5f3bd5defeefceadc1bee88e   \n",
       "1   False    True             1  False Information                      None   \n",
       "2   False   False             2        Hate Speech                      None   \n",
       "3   False    True             1  False Information  5f50c2ee783b70614ec03250   \n",
       "4   False   False             1  False Information                      None   \n",
       "\n",
       "                    creator                storedAt               updatedAt  \\\n",
       "0  5f3bd5defeefceadc1bee88e 2020-09-09 09:33:46.104 2020-09-18 14:16:56.599   \n",
       "1  5f50c353783b70614ec03251 2020-09-10 12:02:10.583 2020-09-15 12:36:57.377   \n",
       "2  5f50c353783b70614ec03251 2020-09-10 12:06:56.332 2020-09-10 12:06:56.332   \n",
       "3  5f50c2ee783b70614ec03250 2020-09-10 12:50:11.536 2020-09-10 13:07:54.711   \n",
       "4  5f50c2ee783b70614ec03250 2020-09-13 12:13:28.518 2020-09-16 13:01:29.629   \n",
       "\n",
       "   idnum  __v                                       locationName  \\\n",
       "0      4    1  https://www.facebook.com/ethiopia24news/posts/...   \n",
       "1      5    0  https://www.facebook.com/TobiaTube/posts/18446...   \n",
       "2      6    0                                                NaN   \n",
       "3      7    0  https://twitter.com/azaz11133/status/692579806...   \n",
       "4      8    0  https://twitter.com/Buranaor/status/1305105906...   \n",
       "\n",
       "                                               notes publicDescription  \n",
       "0                                                NaN               NaN  \n",
       "1  They posted before nothing known about Tigray ...               NaN  \n",
       "2                                                NaN               NaN  \n",
       "3    The image was posted on twitter Four years ago.               NaN  \n",
       "4  The image was posted on a website called Bilis...               NaN  "
      ]
     },
     "execution_count": 40,
     "metadata": {},
     "output_type": "execute_result"
    }
   ],
   "source": [
    "df_1.head()"
   ]
  },
  {
   "cell_type": "code",
   "execution_count": 43,
   "metadata": {},
   "outputs": [],
   "source": [
    "def f(x):\n",
    "    x = x.lower()\n",
    "    if \"hate\" in x:\n",
    "        return \"Hate Speech\"\n",
    "    elif \"false\" in x:\n",
    "        return \"False Information\"\n",
    "    \n",
    "df_1['title'] = (df_1['title']\n",
    "              .map(lambda x: f(x)))"
   ]
  },
  {
   "cell_type": "code",
   "execution_count": 44,
   "metadata": {},
   "outputs": [
    {
     "data": {
      "text/plain": [
       "Text(0.5, 0, 'tags')"
      ]
     },
     "execution_count": 44,
     "metadata": {},
     "output_type": "execute_result"
    },
    {
     "data": {
      "image/png": "[encoded data removed]",
      "text/plain": [
       "<Figure size 432x288 with 1 Axes>"
      ]
     },
     "metadata": {
      "needs_background": "light"
     },
     "output_type": "display_data"
    }
   ],
   "source": [
    "# sns.set_theme(style=\"whitegrid\")\n",
    "\n",
    "counts = df_1.title.value_counts()\n",
    "counts.sort_index(inplace=True)\n",
    "incident_plot = sns.barplot(x = counts.index, y = counts)\n",
    "plt.setp(incident_plot.get_xticklabels(), rotation=90)\n",
    "plt.ylabel('counts')\n",
    "plt.xlabel('tags')\n"
   ]
  },
  {
   "cell_type": "code",
   "execution_count": 59,
   "metadata": {},
   "outputs": [],
   "source": [
    "df_hate = df_1.loc[df_1['title'] == \"Hate Speech\"]\n",
    "df_hate = df_hate[df_hate['locationName'].notnull()]"
   ]
  },
  {
   "cell_type": "code",
   "execution_count": 63,
   "metadata": {},
   "outputs": [],
   "source": [
    "def loc_f(x):\n",
    "    if \"twitter\" in x:\n",
    "        return \"Twitter\"\n",
    "    elif \"facebook\" in x and \"groups\" in x:\n",
    "        return \"Facebook Groups\"\n",
    "    elif \"facebook\" in x:\n",
    "        return \"Facebook Others\"\n",
    "    else:\n",
    "        return \"Others\"\n",
    "\n",
    "df_hate['locationType'] = (df_hate['locationName']\n",
    "              .map(lambda x: loc_f(x)))"
   ]
  },
  {
   "cell_type": "code",
   "execution_count": 64,
   "metadata": {},
   "outputs": [
    {
     "data": {
      "text/plain": [
       "Text(0.5, 0, 'location')"
      ]
     },
     "execution_count": 64,
     "metadata": {},
     "output_type": "execute_result"
    },
    {
     "data": {
      "image/png": "[encoded data removed]",
      "text/plain": [
       "<Figure size 432x288 with 1 Axes>"
      ]
     },
     "metadata": {
      "needs_background": "light"
     },
     "output_type": "display_data"
    }
   ],
   "source": [
    "counts = df_hate.locationType.value_counts()\n",
    "counts.sort_index(inplace=True)\n",
    "location_plot = sns.barplot(x = counts.index, y = counts)\n",
    "plt.setp(location_plot.get_xticklabels(), rotation=90)\n",
    "plt.ylabel('counts')\n",
    "plt.xlabel('location')\n"
   ]
  },
  {
   "cell_type": "code",
   "execution_count": 68,
   "metadata": {},
   "outputs": [
    {
     "data": {
      "text/plain": [
       "'https://www.facebook.com/groups/674455483340611/permalink/884717822314375'"
      ]
     },
     "execution_count": 68,
     "metadata": {},
     "output_type": "execute_result"
    }
   ],
   "source": [
    "df_hate['locationName'][413]"
   ]
  },
  {
   "cell_type": "code",
   "execution_count": 72,
   "metadata": {},
   "outputs": [],
   "source": [
    "def group_f(x):\n",
    "    if \"facebook\" in x and \"groups\" in x:\n",
    "        return x[0: x.index('/permalink')]\n",
    "    else:\n",
    "        return \"None\"\n",
    "\n",
    "df_hate['locationGroup'] = (df_hate['locationName']\n",
    "              .map(lambda x: group_f(x)))"
   ]
  },
  {
   "cell_type": "code",
   "execution_count": 75,
   "metadata": {},
   "outputs": [],
   "source": [
    "group_array = df_hate['locationGroup'].to_numpy()"
   ]
  },
  {
   "cell_type": "code",
   "execution_count": 77,
   "metadata": {},
   "outputs": [],
   "source": [
    "group_array = np.unique(group_array)\n",
    "group_array = group_array[1:]"
   ]
  },
  {
   "cell_type": "code",
   "execution_count": 80,
   "metadata": {},
   "outputs": [
    {
     "data": {
      "text/plain": [
       "array(['https://www.facebook.com/groups/1172065759612115',\n",
       "       'https://www.facebook.com/groups/1262594190798402',\n",
       "       'https://www.facebook.com/groups/1417947225172790',\n",
       "       'https://www.facebook.com/groups/142664326600242',\n",
       "       'https://www.facebook.com/groups/148095576030610',\n",
       "       'https://www.facebook.com/groups/194048064264640',\n",
       "       'https://www.facebook.com/groups/1952894094723845',\n",
       "       'https://www.facebook.com/groups/2113173488738433',\n",
       "       'https://www.facebook.com/groups/2329039460459271',\n",
       "       'https://www.facebook.com/groups/2382743992041985',\n",
       "       'https://www.facebook.com/groups/2449454538432782',\n",
       "       'https://www.facebook.com/groups/2481025542153063',\n",
       "       'https://www.facebook.com/groups/251289802117751',\n",
       "       'https://www.facebook.com/groups/2529920990386884',\n",
       "       'https://www.facebook.com/groups/3723094891049277',\n",
       "       'https://www.facebook.com/groups/395512074396480',\n",
       "       'https://www.facebook.com/groups/421066625503806',\n",
       "       'https://www.facebook.com/groups/422185021983206',\n",
       "       'https://www.facebook.com/groups/504007717049258',\n",
       "       'https://www.facebook.com/groups/526301604722815',\n",
       "       'https://www.facebook.com/groups/583264615524151',\n",
       "       'https://www.facebook.com/groups/674455483340611',\n",
       "       'https://www.facebook.com/groups/702913913194705',\n",
       "       'https://www.facebook.com/groups/731229160735733',\n",
       "       'https://www.facebook.com/groups/744004736038764',\n",
       "       'https://www.facebook.com/groups/779563269087694',\n",
       "       'https://www.facebook.com/groups/940874762973104'], dtype=object)"
      ]
     },
     "execution_count": 80,
     "metadata": {},
     "output_type": "execute_result"
    }
   ],
   "source": [
    "# List of known facebook groups with hate speech\n",
    "group_array"
   ]
  },
  {
   "cell_type": "code",
   "execution_count": null,
   "metadata": {},
   "outputs": [],
   "source": []
  }
 ],
 "metadata": {
  "kernelspec": {
   "display_name": "Python 3",
   "language": "python",
   "name": "python3"
  },
  "language_info": {
   "codemirror_mode": {
    "name": "ipython",
    "version": 3
   },
   "file_extension": ".py",
   "mimetype": "text/x-python",
   "name": "python",
   "nbconvert_exporter": "python",
   "pygments_lexer": "ipython3",
   "version": "3.7.3"
  }
 },
 "nbformat": 4,
 "nbformat_minor": 2
}
